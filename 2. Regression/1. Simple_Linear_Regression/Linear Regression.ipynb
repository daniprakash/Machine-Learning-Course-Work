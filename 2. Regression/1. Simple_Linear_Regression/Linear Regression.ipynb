{
 "cells": [
  {
   "cell_type": "code",
   "execution_count": 43,
   "metadata": {},
   "outputs": [],
   "source": [
    "#mean square distances from the data points \n",
    "#BEST fit line\n",
    "import pandas as pd\n",
    "import numpy as np\n",
    "import matplotlib.pyplot as plt"
   ]
  },
  {
   "cell_type": "code",
   "execution_count": 44,
   "metadata": {},
   "outputs": [
    {
     "name": "stdout",
     "output_type": "stream",
     "text": [
      "    YearsExperience    Salary\n",
      "0               1.1   39343.0\n",
      "1               1.3   46205.0\n",
      "2               1.5   37731.0\n",
      "3               2.0   43525.0\n",
      "4               2.2   39891.0\n",
      "5               2.9   56642.0\n",
      "6               3.0   60150.0\n",
      "7               3.2   54445.0\n",
      "8               3.2   64445.0\n",
      "9               3.7   57189.0\n",
      "10              3.9   63218.0\n",
      "11              4.0   55794.0\n",
      "12              4.0   56957.0\n",
      "13              4.1   57081.0\n",
      "14              4.5   61111.0\n",
      "15              4.9   67938.0\n",
      "16              5.1   66029.0\n",
      "17              5.3   83088.0\n",
      "18              5.9   81363.0\n",
      "19              6.0   93940.0\n",
      "20              6.8   91738.0\n",
      "21              7.1   98273.0\n",
      "22              7.9  101302.0\n",
      "23              8.2  113812.0\n",
      "24              8.7  109431.0\n",
      "25              9.0  105582.0\n",
      "26              9.5  116969.0\n",
      "27              9.6  112635.0\n",
      "28             10.3  122391.0\n",
      "29             10.5  121872.0\n",
      "No of rows =  30\n"
     ]
    }
   ],
   "source": [
    "dataset = pd.read_csv(\"Salary_Data.csv\")\n",
    "print(dataset)\n",
    "print(\"No of rows = \",len(dataset))"
   ]
  },
  {
   "cell_type": "markdown",
   "metadata": {},
   "source": [
    "### X dataset  -  Independent variables data and y dataset - dependent variable data\n"
   ]
  },
  {
   "cell_type": "code",
   "execution_count": 45,
   "metadata": {},
   "outputs": [
    {
     "name": "stdout",
     "output_type": "stream",
     "text": [
      "Independent Variable dataset is \n",
      "0      1.1\n",
      "1      1.3\n",
      "2      1.5\n",
      "3      2.0\n",
      "4      2.2\n",
      "5      2.9\n",
      "6      3.0\n",
      "7      3.2\n",
      "8      3.2\n",
      "9      3.7\n",
      "10     3.9\n",
      "11     4.0\n",
      "12     4.0\n",
      "13     4.1\n",
      "14     4.5\n",
      "15     4.9\n",
      "16     5.1\n",
      "17     5.3\n",
      "18     5.9\n",
      "19     6.0\n",
      "20     6.8\n",
      "21     7.1\n",
      "22     7.9\n",
      "23     8.2\n",
      "24     8.7\n",
      "25     9.0\n",
      "26     9.5\n",
      "27     9.6\n",
      "28    10.3\n",
      "29    10.5\n",
      "Name: YearsExperience, dtype: float64\n",
      "Dependent Variable dataset is \n",
      "0      39343.0\n",
      "1      46205.0\n",
      "2      37731.0\n",
      "3      43525.0\n",
      "4      39891.0\n",
      "5      56642.0\n",
      "6      60150.0\n",
      "7      54445.0\n",
      "8      64445.0\n",
      "9      57189.0\n",
      "10     63218.0\n",
      "11     55794.0\n",
      "12     56957.0\n",
      "13     57081.0\n",
      "14     61111.0\n",
      "15     67938.0\n",
      "16     66029.0\n",
      "17     83088.0\n",
      "18     81363.0\n",
      "19     93940.0\n",
      "20     91738.0\n",
      "21     98273.0\n",
      "22    101302.0\n",
      "23    113812.0\n",
      "24    109431.0\n",
      "25    105582.0\n",
      "26    116969.0\n",
      "27    112635.0\n",
      "28    122391.0\n",
      "29    121872.0\n",
      "Name: Salary, dtype: float64\n"
     ]
    }
   ],
   "source": [
    "X = dataset.iloc[:, 0]\n",
    "print(\"Independent Variable dataset is \")\n",
    "print(X)\n",
    "y = dataset.iloc[:, 1]\n",
    "print(\"Dependent Variable dataset is \")\n",
    "print(y)"
   ]
  },
  {
   "cell_type": "markdown",
   "metadata": {},
   "source": [
    "## Splitting the dataset into training set and test set"
   ]
  },
  {
   "cell_type": "code",
   "execution_count": 46,
   "metadata": {},
   "outputs": [
    {
     "name": "stdout",
     "output_type": "stream",
     "text": [
      "<class 'pandas.core.series.Series'>\n",
      "Independent training samples\n",
      "5      2.9\n",
      "16     5.1\n",
      "8      3.2\n",
      "14     4.5\n",
      "23     8.2\n",
      "20     6.8\n",
      "1      1.3\n",
      "29    10.5\n",
      "6      3.0\n",
      "4      2.2\n",
      "18     5.9\n",
      "19     6.0\n",
      "9      3.7\n",
      "7      3.2\n",
      "25     9.0\n",
      "3      2.0\n",
      "0      1.1\n",
      "21     7.1\n",
      "15     4.9\n",
      "12     4.0\n",
      "Name: YearsExperience, dtype: float64 size: 20\n",
      "Dependent training samples\n",
      "5      56642.0\n",
      "16     66029.0\n",
      "8      64445.0\n",
      "14     61111.0\n",
      "23    113812.0\n",
      "20     91738.0\n",
      "1      46205.0\n",
      "29    121872.0\n",
      "6      60150.0\n",
      "4      39891.0\n",
      "18     81363.0\n",
      "19     93940.0\n",
      "9      57189.0\n",
      "7      54445.0\n",
      "25    105582.0\n",
      "3      43525.0\n",
      "0      39343.0\n",
      "21     98273.0\n",
      "15     67938.0\n",
      "12     56957.0\n",
      "Name: Salary, dtype: float64 size: 20\n",
      "Independent testing samples\n",
      "2      1.5\n",
      "28    10.3\n",
      "13     4.1\n",
      "10     3.9\n",
      "26     9.5\n",
      "24     8.7\n",
      "27     9.6\n",
      "11     4.0\n",
      "17     5.3\n",
      "22     7.9\n",
      "Name: YearsExperience, dtype: float64 size: 10\n",
      "Dependent testing samples\n",
      "2      37731.0\n",
      "28    122391.0\n",
      "13     57081.0\n",
      "10     63218.0\n",
      "26    116969.0\n",
      "24    109431.0\n",
      "27    112635.0\n",
      "11     55794.0\n",
      "17     83088.0\n",
      "22    101302.0\n",
      "Name: Salary, dtype: float64 size: 10\n"
     ]
    }
   ],
   "source": [
    "from sklearn.model_selection import train_test_split\n",
    "X_train, X_test, y_train, y_test = train_test_split(X, y, test_size = 1/3, random_state = 0)\n",
    "print(type(X_train))\n",
    "\n",
    "print(\"Independent training samples\")\n",
    "print(X_train, \"size:\", len(X_train))\n",
    "print(\"Dependent training samples\")\n",
    "print(y_train, \"size:\", len(y_train))\n",
    "print(\"Independent testing samples\")\n",
    "print(X_test, \"size:\", len(X_test))\n",
    "print(\"Dependent testing samples\")\n",
    "print(y_test, \"size:\", len(y_test))"
   ]
  },
  {
   "cell_type": "markdown",
   "metadata": {},
   "source": [
    "## Why Feature Scaling is not required?\n",
    "### Most of the machine learning libraries will take care of feature scaling. In same way Linear Regression Library will take of feature scaling."
   ]
  },
  {
   "cell_type": "code",
   "execution_count": 47,
   "metadata": {},
   "outputs": [],
   "source": [
    "from sklearn import linear_model\n",
    "linear_regressor = linear_model.LinearRegression()"
   ]
  },
  {
   "cell_type": "code",
   "execution_count": 48,
   "metadata": {},
   "outputs": [
    {
     "name": "stdout",
     "output_type": "stream",
     "text": [
      "[[ 2.9]\n",
      " [ 5.1]\n",
      " [ 3.2]\n",
      " [ 4.5]\n",
      " [ 8.2]\n",
      " [ 6.8]\n",
      " [ 1.3]\n",
      " [10.5]\n",
      " [ 3. ]\n",
      " [ 2.2]\n",
      " [ 5.9]\n",
      " [ 6. ]\n",
      " [ 3.7]\n",
      " [ 3.2]\n",
      " [ 9. ]\n",
      " [ 2. ]\n",
      " [ 1.1]\n",
      " [ 7.1]\n",
      " [ 4.9]\n",
      " [ 4. ]]\n",
      "[[ 56642.]\n",
      " [ 66029.]\n",
      " [ 64445.]\n",
      " [ 61111.]\n",
      " [113812.]\n",
      " [ 91738.]\n",
      " [ 46205.]\n",
      " [121872.]\n",
      " [ 60150.]\n",
      " [ 39891.]\n",
      " [ 81363.]\n",
      " [ 93940.]\n",
      " [ 57189.]\n",
      " [ 54445.]\n",
      " [105582.]\n",
      " [ 43525.]\n",
      " [ 39343.]\n",
      " [ 98273.]\n",
      " [ 67938.]\n",
      " [ 56957.]]\n",
      "<class 'numpy.ndarray'>\n",
      "<class 'numpy.ndarray'>\n"
     ]
    }
   ],
   "source": [
    "#Dataset in pandas will be loaded as series\n",
    "#we should convert them into 2d arrays for fitting the regressor.\n",
    "# series -> array(1d) -> array(2d)\n",
    "X_train_array = np.array(X_train)\n",
    "y_train_array = np.array(y_train)\n",
    "X_train_array = np.reshape(X_train_array, (-1, 1))\n",
    "y_train_array = np.reshape(y_train_array, (-1, 1))\n",
    "X_test_array = np.array(X_test)\n",
    "y_test_array = np.array(y_test)\n",
    "X_test_array = np.reshape(X_test_array, (-1, 1))\n",
    "y_test_array = np.reshape(y_test_array, (-1, 1))\n",
    "print(X_train_array)\n",
    "print(y_train_array)\n",
    "print(type(X_train_array))\n",
    "print(type(y_train_array))"
   ]
  },
  {
   "cell_type": "code",
   "execution_count": 49,
   "metadata": {},
   "outputs": [
    {
     "data": {
      "text/plain": [
       "LinearRegression(copy_X=True, fit_intercept=True, n_jobs=None,\n",
       "         normalize=False)"
      ]
     },
     "execution_count": 49,
     "metadata": {},
     "output_type": "execute_result"
    }
   ],
   "source": [
    "linear_regressor.fit(X_train_array, y_train_array)"
   ]
  },
  {
   "cell_type": "code",
   "execution_count": 50,
   "metadata": {},
   "outputs": [
    {
     "name": "stdout",
     "output_type": "stream",
     "text": [
      "The actual and predicted salaries are:\n",
      "[[ 37731.]\n",
      " [122391.]\n",
      " [ 57081.]\n",
      " [ 63218.]\n",
      " [116969.]\n",
      " [109431.]\n",
      " [112635.]\n",
      " [ 55794.]\n",
      " [ 83088.]\n",
      " [101302.]]\n",
      "[[ 40835.10590871]\n",
      " [123079.39940819]\n",
      " [ 65134.55626083]\n",
      " [ 63265.36777221]\n",
      " [115602.64545369]\n",
      " [108125.8914992 ]\n",
      " [116537.23969801]\n",
      " [ 64199.96201652]\n",
      " [ 76349.68719258]\n",
      " [100649.1375447 ]]\n"
     ]
    }
   ],
   "source": [
    "y_pred = linear_regressor.predict(X_test_array)\n",
    "print(\"The actual and predicted salaries are:\")\n",
    "print(y_test_array)\n",
    "print(y_pred)"
   ]
  },
  {
   "cell_type": "markdown",
   "metadata": {},
   "source": [
    "## Visualizing the training set"
   ]
  },
  {
   "cell_type": "code",
   "execution_count": 58,
   "metadata": {},
   "outputs": [
    {
     "data": {
      "image/png": "[encoded data removed]",
      "text/plain": [
       "<Figure size 432x288 with 1 Axes>"
      ]
     },
     "metadata": {
      "needs_background": "light"
     },
     "output_type": "display_data"
    }
   ],
   "source": [
    "plt.scatter(X_train, y_train, color = \"red\")\n",
    "plt.plot(X_train_array, linear_regressor.predict(X_train_array), color = \"blue\")\n",
    "plt.title(\"Salary vs Experience\")\n",
    "plt.xlabel(\"Years of Experience\")\n",
    "plt.ylabel(\"Salary\")\n",
    "plt.show()"
   ]
  },
  {
   "cell_type": "markdown",
   "metadata": {},
   "source": [
    "## Visualizing the test set"
   ]
  },
  {
   "cell_type": "code",
   "execution_count": 57,
   "metadata": {},
   "outputs": [
    {
     "data": {
      "image/png": "[encoded data removed]",
      "text/plain": [
       "<Figure size 432x288 with 1 Axes>"
      ]
     },
     "metadata": {
      "needs_background": "light"
     },
     "output_type": "display_data"
    }
   ],
   "source": [
    "plt.scatter(X_test, y_test, color = \"red\")\n",
    "plt.plot(X_train_array, linear_regressor.predict(X_train_array), color = \"blue\")\n",
    "plt.title(\"Salary vs Experience\")\n",
    "plt.xlabel(\"Years of Experience\")\n",
    "plt.ylabel(\"Salary\")\n",
    "plt.show()"
   ]
  }
 ],
 "metadata": {
  "kernelspec": {
   "display_name": "Python 3",
   "language": "python",
   "name": "python3"
  },
  "language_info": {
   "codemirror_mode": {
    "name": "ipython",
    "version": 3
   },
   "file_extension": ".py",
   "mimetype": "text/x-python",
   "name": "python",
   "nbconvert_exporter": "python",
   "pygments_lexer": "ipython3",
   "version": "3.6.6"
  }
 },
 "nbformat": 4,
 "nbformat_minor": 2
}

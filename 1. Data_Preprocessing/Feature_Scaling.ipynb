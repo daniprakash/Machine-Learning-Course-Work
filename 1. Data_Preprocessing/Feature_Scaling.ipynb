{
 "cells": [
  {
   "cell_type": "code",
   "execution_count": 112,
   "metadata": {},
   "outputs": [],
   "source": [
    "#why we need feature scaling?\n",
    "# all the variables may not have same scale we need to do feature scaling\n",
    "# age extends from 27 to 50 and at the same time salary scales from 48k to 83k\n",
    "#LOT OF MACHINE LEARNING MODELS ARE BASED ON EUCLIDEAN DISTANCE. \n",
    "#Here, salary has wider range than that of age thus salary has more impact than\n",
    "#age. they both have to be in same range since they have to be on the \n",
    "#coordinates on the graph."
   ]
  },
  {
   "cell_type": "code",
   "execution_count": 113,
   "metadata": {},
   "outputs": [],
   "source": [
    "import pandas as pd\n",
    "import matplotlib.pyplot as plt\n",
    "import numpy as np"
   ]
  },
  {
   "cell_type": "code",
   "execution_count": 114,
   "metadata": {},
   "outputs": [
    {
     "name": "stdout",
     "output_type": "stream",
     "text": [
      "10\n"
     ]
    }
   ],
   "source": [
    "dataset = pd.read_csv(\"Data.csv\")\n",
    "print(len(dataset))"
   ]
  },
  {
   "cell_type": "code",
   "execution_count": 115,
   "metadata": {},
   "outputs": [
    {
     "name": "stdout",
     "output_type": "stream",
     "text": [
      "[44. 27. 30. 38. 40. 35. nan 48. 50. 37.]\n",
      "[44. 27. 30. 38. 40. 35. nan 48. 50. 37.]\n",
      "[72000. 48000. 54000. 61000.    nan 58000. 52000. 79000. 83000. 67000.]\n",
      "[72000. 48000. 54000. 61000.    nan 58000. 52000. 79000. 83000. 67000.]\n"
     ]
    }
   ],
   "source": [
    "#missing values\n",
    "print(dataset.iloc[:,1].values)\n",
    "age_col = dataset.iloc[:, 1].values\n",
    "print(age_col)\n",
    "print(dataset.iloc[:,2].values)\n",
    "sal_col = dataset.iloc[:,2].values\n",
    "print(sal_col)"
   ]
  },
  {
   "cell_type": "code",
   "execution_count": 116,
   "metadata": {},
   "outputs": [
    {
     "name": "stdout",
     "output_type": "stream",
     "text": [
      "[44.         27.         30.         38.         40.         35.\n",
      " 38.77777778 48.         50.         37.        ]\n",
      "   Country        Age   Salary Purchased\n",
      "0   France  44.000000  72000.0        No\n",
      "1    Spain  27.000000  48000.0       Yes\n",
      "2  Germany  30.000000  54000.0        No\n",
      "3    Spain  38.000000  61000.0        No\n",
      "4  Germany  40.000000      NaN       Yes\n",
      "5   France  35.000000  58000.0       Yes\n",
      "6    Spain  38.777778  52000.0        No\n",
      "7   France  48.000000  79000.0       Yes\n",
      "8  Germany  50.000000  83000.0        No\n",
      "9   France  37.000000  67000.0       Yes\n"
     ]
    },
    {
     "name": "stderr",
     "output_type": "stream",
     "text": [
      "C:\\Users\\JEPRSDD\\Anaconda3\\lib\\site-packages\\sklearn\\utils\\deprecation.py:58: DeprecationWarning: Class Imputer is deprecated; Imputer was deprecated in version 0.20 and will be removed in 0.22. Import impute.SimpleImputer from sklearn instead.\n",
      "  warnings.warn(msg, category=DeprecationWarning)\n"
     ]
    }
   ],
   "source": [
    "from sklearn.preprocessing import Imputer\n",
    "imputer = Imputer(missing_values=\"NaN\", strategy = \"mean\", axis = 0)\n",
    "age_col = age_col.reshape(-1 , 1)\n",
    "age_imputer = imputer.fit(age_col)\n",
    "age_col = age_imputer.transform(age_col)\n",
    "age_col = age_col.ravel()\n",
    "dataset.iloc[:,1] = age_col\n",
    "print(age_col)\n",
    "print(dataset)"
   ]
  },
  {
   "cell_type": "code",
   "execution_count": 117,
   "metadata": {},
   "outputs": [
    {
     "name": "stdout",
     "output_type": "stream",
     "text": [
      "[72000.         48000.         54000.         61000.\n",
      " 63777.77777778 58000.         52000.         79000.\n",
      " 83000.         67000.        ]\n",
      "   Country        Age        Salary Purchased\n",
      "0   France  44.000000  72000.000000        No\n",
      "1    Spain  27.000000  48000.000000       Yes\n",
      "2  Germany  30.000000  54000.000000        No\n",
      "3    Spain  38.000000  61000.000000        No\n",
      "4  Germany  40.000000  63777.777778       Yes\n",
      "5   France  35.000000  58000.000000       Yes\n",
      "6    Spain  38.777778  52000.000000        No\n",
      "7   France  48.000000  79000.000000       Yes\n",
      "8  Germany  50.000000  83000.000000        No\n",
      "9   France  37.000000  67000.000000       Yes\n"
     ]
    }
   ],
   "source": [
    "sal_col = sal_col.reshape(-1, 1)\n",
    "sal_imputer = imputer.fit(sal_col)\n",
    "sal_col = sal_imputer.transform(sal_col)\n",
    "sal_col = sal_col.ravel()\n",
    "dataset.iloc[:,2] = sal_col\n",
    "print(sal_col)\n",
    "print(dataset)"
   ]
  },
  {
   "cell_type": "code",
   "execution_count": 118,
   "metadata": {},
   "outputs": [
    {
     "name": "stdout",
     "output_type": "stream",
     "text": [
      "[0 2 1 2 1 0 2 0 1 0]\n",
      "   Country        Age        Salary Purchased\n",
      "0        0  44.000000  72000.000000        No\n",
      "1        2  27.000000  48000.000000       Yes\n",
      "2        1  30.000000  54000.000000        No\n",
      "3        2  38.000000  61000.000000        No\n",
      "4        1  40.000000  63777.777778       Yes\n",
      "5        0  35.000000  58000.000000       Yes\n",
      "6        2  38.777778  52000.000000        No\n",
      "7        0  48.000000  79000.000000       Yes\n",
      "8        1  50.000000  83000.000000        No\n",
      "9        0  37.000000  67000.000000       Yes\n"
     ]
    }
   ],
   "source": [
    "#encoding with labelencoder and onehotencoder\n",
    "from sklearn.preprocessing import LabelEncoder\n",
    "label_encoder = LabelEncoder()\n",
    "cou_col = dataset.iloc[:,0].values\n",
    "cou_col = label_encoder.fit_transform(cou_col)\n",
    "dataset.iloc[:,0] = cou_col\n",
    "print(cou_col)\n",
    "print(dataset)"
   ]
  },
  {
   "cell_type": "code",
   "execution_count": 119,
   "metadata": {},
   "outputs": [
    {
     "name": "stdout",
     "output_type": "stream",
     "text": [
      "[0 1 0 0 1 1 0 1 0 1]\n",
      "   Country        Age        Salary  Purchased\n",
      "0        0  44.000000  72000.000000          0\n",
      "1        2  27.000000  48000.000000          1\n",
      "2        1  30.000000  54000.000000          0\n",
      "3        2  38.000000  61000.000000          0\n",
      "4        1  40.000000  63777.777778          1\n",
      "5        0  35.000000  58000.000000          1\n",
      "6        2  38.777778  52000.000000          0\n",
      "7        0  48.000000  79000.000000          1\n",
      "8        1  50.000000  83000.000000          0\n",
      "9        0  37.000000  67000.000000          1\n"
     ]
    }
   ],
   "source": [
    "#encoding with labelencoder - y\n",
    "y_col = dataset.iloc[:,-1].values\n",
    "from sklearn.preprocessing import LabelEncoder\n",
    "le_y = LabelEncoder()\n",
    "y_col = le_y.fit_transform(y_col)\n",
    "dataset.iloc[:,-1] = y_col\n",
    "print(y_col)\n",
    "print(dataset)"
   ]
  },
  {
   "cell_type": "code",
   "execution_count": 120,
   "metadata": {},
   "outputs": [
    {
     "name": "stdout",
     "output_type": "stream",
     "text": [
      "[[0.00000000e+00 4.40000000e+01 7.20000000e+04]\n",
      " [2.00000000e+00 2.70000000e+01 4.80000000e+04]\n",
      " [1.00000000e+00 3.00000000e+01 5.40000000e+04]\n",
      " [2.00000000e+00 3.80000000e+01 6.10000000e+04]\n",
      " [1.00000000e+00 4.00000000e+01 6.37777778e+04]\n",
      " [0.00000000e+00 3.50000000e+01 5.80000000e+04]\n",
      " [2.00000000e+00 3.87777778e+01 5.20000000e+04]\n",
      " [0.00000000e+00 4.80000000e+01 7.90000000e+04]\n",
      " [1.00000000e+00 5.00000000e+01 8.30000000e+04]\n",
      " [0.00000000e+00 3.70000000e+01 6.70000000e+04]]\n",
      "[[1.00000000e+00 0.00000000e+00 0.00000000e+00 4.40000000e+01\n",
      "  7.20000000e+04]\n",
      " [0.00000000e+00 0.00000000e+00 1.00000000e+00 2.70000000e+01\n",
      "  4.80000000e+04]\n",
      " [0.00000000e+00 1.00000000e+00 0.00000000e+00 3.00000000e+01\n",
      "  5.40000000e+04]\n",
      " [0.00000000e+00 0.00000000e+00 1.00000000e+00 3.80000000e+01\n",
      "  6.10000000e+04]\n",
      " [0.00000000e+00 1.00000000e+00 0.00000000e+00 4.00000000e+01\n",
      "  6.37777778e+04]\n",
      " [1.00000000e+00 0.00000000e+00 0.00000000e+00 3.50000000e+01\n",
      "  5.80000000e+04]\n",
      " [0.00000000e+00 0.00000000e+00 1.00000000e+00 3.87777778e+01\n",
      "  5.20000000e+04]\n",
      " [1.00000000e+00 0.00000000e+00 0.00000000e+00 4.80000000e+01\n",
      "  7.90000000e+04]\n",
      " [0.00000000e+00 1.00000000e+00 0.00000000e+00 5.00000000e+01\n",
      "  8.30000000e+04]\n",
      " [1.00000000e+00 0.00000000e+00 0.00000000e+00 3.70000000e+01\n",
      "  6.70000000e+04]]\n"
     ]
    },
    {
     "name": "stderr",
     "output_type": "stream",
     "text": [
      "C:\\Users\\JEPRSDD\\Anaconda3\\lib\\site-packages\\sklearn\\preprocessing\\_encoders.py:363: FutureWarning: The handling of integer data will change in version 0.22. Currently, the categories are determined based on the range [0, max(values)], while in the future they will be determined based on the unique values.\n",
      "If you want the future behaviour and silence this warning, you can specify \"categories='auto'\".\n",
      "In case you used a LabelEncoder before this OneHotEncoder to convert the categories to integers, then you can now use the OneHotEncoder directly.\n",
      "  warnings.warn(msg, FutureWarning)\n",
      "C:\\Users\\JEPRSDD\\Anaconda3\\lib\\site-packages\\sklearn\\preprocessing\\_encoders.py:385: DeprecationWarning: The 'categorical_features' keyword is deprecated in version 0.20 and will be removed in 0.22. You can use the ColumnTransformer instead.\n",
      "  \"use the ColumnTransformer instead.\", DeprecationWarning)\n"
     ]
    }
   ],
   "source": [
    "#encoding with one hot encoder\n",
    "from sklearn.preprocessing import OneHotEncoder\n",
    "ohn = OneHotEncoder(categorical_features = [0])\n",
    "X = dataset.iloc[:, 0:3].values\n",
    "print(X)\n",
    "X = ohn.fit_transform(X).toarray()\n",
    "print(X)"
   ]
  },
  {
   "cell_type": "code",
   "execution_count": 121,
   "metadata": {},
   "outputs": [
    {
     "name": "stdout",
     "output_type": "stream",
     "text": [
      "[[0.00000000e+00 4.40000000e+01 7.20000000e+04]\n",
      " [2.00000000e+00 2.70000000e+01 4.80000000e+04]\n",
      " [1.00000000e+00 3.00000000e+01 5.40000000e+04]\n",
      " [2.00000000e+00 3.80000000e+01 6.10000000e+04]\n",
      " [1.00000000e+00 4.00000000e+01 6.37777778e+04]\n",
      " [0.00000000e+00 3.50000000e+01 5.80000000e+04]\n",
      " [2.00000000e+00 3.87777778e+01 5.20000000e+04]\n",
      " [0.00000000e+00 4.80000000e+01 7.90000000e+04]\n",
      " [1.00000000e+00 5.00000000e+01 8.30000000e+04]\n",
      " [0.00000000e+00 3.70000000e+01 6.70000000e+04]]\n",
      "[0 1 0 0 1 1 0 1 0 1]\n"
     ]
    }
   ],
   "source": [
    "from sklearn.model_selection import train_test_split\n",
    "X = dataset.iloc[:,0:3].values\n",
    "y = dataset.iloc[:, -1].values\n",
    "print(X)\n",
    "print(y)\n",
    "X_train, X_test, y_train, y_test = train_test_split(X, y, test_size = 0.2, random_state = 0)"
   ]
  },
  {
   "cell_type": "code",
   "execution_count": 131,
   "metadata": {},
   "outputs": [
    {
     "name": "stdout",
     "output_type": "stream",
     "text": [
      "[[ 0.13483997  0.26306757  0.12381479]\n",
      " [-0.94387981 -0.25350148  0.46175632]\n",
      " [ 1.21355975 -1.97539832 -1.53093341]\n",
      " [ 1.21355975  0.05261351 -1.11141978]\n",
      " [-0.94387981  1.64058505  1.7202972 ]\n",
      " [ 1.21355975 -0.0813118  -0.16751412]\n",
      " [-0.94387981  0.95182631  0.98614835]\n",
      " [-0.94387981 -0.59788085 -0.48214934]]\n",
      "[[ 0. -1. -1.]\n",
      " [ 0.  1.  1.]]\n",
      "[[ 0.77459667]\n",
      " [ 0.77459667]\n",
      " [ 0.77459667]\n",
      " [-1.29099445]\n",
      " [ 0.77459667]\n",
      " [-1.29099445]\n",
      " [-1.29099445]\n",
      " [ 0.77459667]]\n"
     ]
    }
   ],
   "source": [
    "#feature scaling\n",
    "from sklearn.preprocessing import StandardScaler\n",
    "ss_x = StandardScaler()\n",
    "X_train = ss_x.fit_transform(X_train)\n",
    "print(X_train)\n",
    "X_test = ss_x.fit_transform(X_test)\n",
    "print(X_test)\n",
    "ss_y = StandardScaler()\n",
    "y_train = y_train.reshape(-1, 1)\n",
    "y_train = ss_y.fit_transform(y_train)\n",
    "print(y_train)"
   ]
  }
 ],
 "metadata": {
  "kernelspec": {
   "display_name": "Python 3",
   "language": "python",
   "name": "python3"
  },
  "language_info": {
   "codemirror_mode": {
    "name": "ipython",
    "version": 3
   },
   "file_extension": ".py",
   "mimetype": "text/x-python",
   "name": "python",
   "nbconvert_exporter": "python",
   "pygments_lexer": "ipython3",
   "version": "3.6.6"
  }
 },
 "nbformat": 4,
 "nbformat_minor": 2
}
